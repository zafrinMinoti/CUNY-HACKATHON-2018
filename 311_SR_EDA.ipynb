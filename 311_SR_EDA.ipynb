{
 "cells": [
  {
   "cell_type": "code",
   "execution_count": 4,
   "metadata": {
    "collapsed": true
   },
   "outputs": [],
   "source": [
    "import numpy as np\n",
    "import pandas as pd\n",
    "from sodapy import Socrata\n",
    "\n",
    "import matplotlib.pyplot as plt\n",
    "import seaborn as sns\n",
    "%matplotlib inline\n",
    "\n",
    "import datetime as dt\n",
    "import re"
   ]
  },
  {
   "cell_type": "markdown",
   "metadata": {},
   "source": [
    "## Project Ideas"
   ]
  },
  {
   "cell_type": "markdown",
   "metadata": {},
   "source": [
    "* Given the Geodata, date, time, -- How likely the complaint to be of a certain category?\n",
    "Purpose: Help government to allocate resources efficiently \n",
    "\n",
    "* Which depertments are most efficient with responding to service requests\n",
    "* Where the complaints are coming from, when and from whom?"
   ]
  },
  {
   "cell_type": "markdown",
   "metadata": {},
   "source": [
    "## Data"
   ]
  },
  {
   "cell_type": "code",
   "execution_count": 57,
   "metadata": {},
   "outputs": [
    {
     "name": "stderr",
     "output_type": "stream",
     "text": [
      "WARNING:root:Requests made without an app_token will be subject to strict throttling limits.\n"
     ]
    }
   ],
   "source": [
    "# Unauthenticated client only works with public data sets. Note 'None'\n",
    "# in place of application token, and no username or password:\n",
    "client = Socrata(\"data.cityofnewyork.us\", None)\n",
    "\n",
    "# Example authenticated client (needed for non-public datasets):\n",
    "# client = Socrata(data.cityofnewyork.us,\n",
    "#                  MyAppToken,\n",
    "#                  userame=\"user@example.com\",\n",
    "#                  password=\"AFakePassword\")\n",
    "\n",
    "# First 2000 results, returned as JSON from API / converted to Python list of\n",
    "# dictionaries by sodapy.\n",
    "# link https://dev.socrata.com/foundry/data.cityofnewyork.us/fhrw-4uyv\n",
    "# tatal record = 9362925\n",
    "results = client.get(\"fhrw-4uyv\", limit=93629)\n",
    "\n",
    "# Convert to pandas DataFrame\n",
    "data = pd.DataFrame.from_records(results)"
   ]
  },
  {
   "cell_type": "code",
   "execution_count": 79,
   "metadata": {},
   "outputs": [
    {
     "data": {
      "text/plain": [
       "0.9999973298942372"
      ]
     },
     "execution_count": 79,
     "metadata": {},
     "output_type": "execute_result"
    }
   ],
   "source": [
    "total_record = 9362925\n",
    "selected_record = 93629\n",
    "selected_record/total_record*100"
   ]
  },
  {
   "cell_type": "markdown",
   "metadata": {},
   "source": [
    "### Datatypes"
   ]
  },
  {
   "cell_type": "code",
   "execution_count": 61,
   "metadata": {
    "collapsed": true
   },
   "outputs": [],
   "source": [
    "date_cols = ['closed_date', 'created_date', 'due_date']\n",
    "for col in date_cols:\n",
    "    data[col] = pd.to_datetime(data[col])"
   ]
  },
  {
   "cell_type": "code",
   "execution_count": 85,
   "metadata": {
    "collapsed": true
   },
   "outputs": [],
   "source": [
    "data[['unique_key', 'agency', 'complaint_type', 'status',\n",
    "      'closed_date', 'created_date', 'due_date']].to_pickle('Data/timedelta_study.pkl')"
   ]
  },
  {
   "cell_type": "markdown",
   "metadata": {
    "collapsed": true
   },
   "source": [
    "#### Parse data and time"
   ]
  },
  {
   "cell_type": "code",
   "execution_count": null,
   "metadata": {
    "collapsed": true
   },
   "outputs": [],
   "source": [
    "data['closed_date_year'] = data['closed_date'].dt.year\n",
    "data['closed_date_month'] = data['closed_date'].dt.month\n",
    "data['closed_date_dayofmonth'] = data['closed_date'].dt.day\n",
    "data['closed_date_dayofweek'] = data['closed_date'].dt.dayofweek\n",
    "data['closed_date_hour'] = data['closed_date'].dt.hour\n",
    "\n",
    "data['created_date_year'] = data['created_date'].dt.year\n",
    "data['created_date_month'] = data['created_date'].dt.month\n",
    "data['created_date_dayofmonth'] = data['created_date'].dt.day\n",
    "data['created_date_dayofweek'] = data['created_date'].dt.dayofweek\n",
    "data['created_date_hour'] = data['created_date'].dt.hour\n",
    "\n",
    "data['due_date_year'] = data['due_date'].dt.year\n",
    "data['due_date_month'] = data['due_date'].dt.month\n",
    "data['due_date_dayofmonth'] = data['due_date'].dt.day\n",
    "data['due_date_dayofweek'] = data['due_date'].dt.dayofweek\n",
    "data['due_date_hour'] = data['due_date'].dt.hour"
   ]
  },
  {
   "cell_type": "code",
   "execution_count": 81,
   "metadata": {
    "collapsed": true
   },
   "outputs": [],
   "source": [
    "data['response_time'] = (data['closed_date'] - data['created_date']) / dt.timedelta(minutes=1)\n",
    "data['remaining_time'] = (data['due_date'] - data['closed_date']) / dt.timedelta(minutes=1)\n"
   ]
  },
  {
   "cell_type": "code",
   "execution_count": 80,
   "metadata": {},
   "outputs": [
    {
     "data": {
      "text/plain": [
       "Closed      89470\n",
       "Pending      2181\n",
       "Assigned     1065\n",
       "Open          876\n",
       "Started        36\n",
       "Name: status, dtype: int64"
      ]
     },
     "execution_count": 80,
     "metadata": {},
     "output_type": "execute_result"
    }
   ],
   "source": [
    "data.status.value_counts()"
   ]
  },
  {
   "cell_type": "code",
   "execution_count": null,
   "metadata": {
    "collapsed": true
   },
   "outputs": [],
   "source": [
    "from sklearn.preprocessing import MinMaxScaler\n"
   ]
  },
  {
   "cell_type": "markdown",
   "metadata": {},
   "source": [
    "### Missing Values"
   ]
  },
  {
   "cell_type": "code",
   "execution_count": 19,
   "metadata": {
    "scrolled": false
   },
   "outputs": [
    {
     "data": {
      "text/plain": [
       "address_type                       0.260603\n",
       "agency                             0.000000\n",
       "agency_name                        0.000000\n",
       "bbl                               16.309050\n",
       "borough                            0.000000\n",
       "bridge_highway_direction          99.831249\n",
       "bridge_highway_name               99.831249\n",
       "bridge_highway_segment            99.831249\n",
       "city                               0.007476\n",
       "closed_date                        2.195901\n",
       "community_board                    0.000000\n",
       "complaint_type                     0.000000\n",
       "created_date                       0.000000\n",
       "cross_street_1                    52.867167\n",
       "cross_street_2                    52.968632\n",
       "descriptor                         0.000000\n",
       "due_date                          61.070822\n",
       "facility_type                      0.001068\n",
       "incident_address                  12.158626\n",
       "incident_zip                       0.017089\n",
       "intersection_street_1             87.596792\n",
       "intersection_street_2             87.596792\n",
       "landmark                          99.972231\n",
       "latitude                           0.000000\n",
       "location                           0.000000\n",
       "location_type                     19.378611\n",
       "longitude                          0.000000\n",
       "open_data_channel_type             0.000000\n",
       "park_borough                       0.000000\n",
       "park_facility_name                 0.000000\n",
       "resolution_action_updated_date     0.961241\n",
       "resolution_description             0.101464\n",
       "road_ramp                         99.831249\n",
       "status                             0.001068\n",
       "street_name                       12.158626\n",
       "taxi_company_borough              99.914556\n",
       "taxi_pick_up_location             99.077209\n",
       "unique_key                         0.000000\n",
       "vehicle_type                      99.998932\n",
       "x_coordinate_state_plane           0.000000\n",
       "y_coordinate_state_plane           0.000000\n",
       "dtype: float64"
      ]
     },
     "execution_count": 19,
     "metadata": {},
     "output_type": "execute_result"
    }
   ],
   "source": [
    "data.isnull().sum()/len(data)*100"
   ]
  },
  {
   "cell_type": "code",
   "execution_count": 115,
   "metadata": {
    "scrolled": false
   },
   "outputs": [
    {
     "data": {
      "text/plain": [
       "Text(0.5,1,'% of NaN values by agency')"
      ]
     },
     "execution_count": 115,
     "metadata": {},
     "output_type": "execute_result"
    },
    {
     "data": {
      "image/png": "[encoded data removed]",
      "text/plain": [
       "<matplotlib.figure.Figure at 0x7f06bfafbfd0>"
      ]
     },
     "metadata": {},
     "output_type": "display_data"
    }
   ],
   "source": [
    "# Null due date by agency\n",
    "d = (data[data.due_date.isnull()].groupby(['agency']).unique_key.count()/data.groupby(['agency']).unique_key.count()*100)\n",
    "# d = d.unstack\n",
    "d.sort_values(ascending=False).plot(kind='barh')\n",
    "plt.title(\"% of NaN values by agency\")"
   ]
  },
  {
   "cell_type": "markdown",
   "metadata": {},
   "source": [
    "## Evaluating Features"
   ]
  },
  {
   "cell_type": "markdown",
   "metadata": {},
   "source": [
    "#### Address Type"
   ]
  },
  {
   "cell_type": "code",
   "execution_count": 91,
   "metadata": {},
   "outputs": [
    {
     "data": {
      "text/plain": [
       "array(['ADDRESS', 'BLOCKFACE', 'INTERSECTION', 'LATLONG', nan, 'PLACENAME'], dtype=object)"
      ]
     },
     "execution_count": 91,
     "metadata": {},
     "output_type": "execute_result"
    }
   ],
   "source": [
    "data.address_type.unique()"
   ]
  },
  {
   "cell_type": "code",
   "execution_count": 116,
   "metadata": {
    "scrolled": false
   },
   "outputs": [
    {
     "data": {
      "text/plain": [
       "Text(0.5,1,'Complaint Counts by Address Types')"
      ]
     },
     "execution_count": 116,
     "metadata": {},
     "output_type": "execute_result"
    },
    {
     "data": {
      "image/png": "[encoded data removed]",
      "text/plain": [
       "<matplotlib.figure.Figure at 0x7f06bfa9fef0>"
      ]
     },
     "metadata": {},
     "output_type": "display_data"
    }
   ],
   "source": [
    "data.address_type.value_counts(ascending=True).plot(kind='barh')\n",
    "plt.title(\"Complaint Counts by Address Types\")"
   ]
  },
  {
   "cell_type": "markdown",
   "metadata": {},
   "source": [
    "#### Agency"
   ]
  },
  {
   "cell_type": "code",
   "execution_count": 110,
   "metadata": {
    "scrolled": false
   },
   "outputs": [
    {
     "data": {
      "text/plain": [
       "<matplotlib.axes._subplots.AxesSubplot at 0x7f069bff38d0>"
      ]
     },
     "execution_count": 110,
     "metadata": {},
     "output_type": "execute_result"
    },
    {
     "data": {
      "image/png": "[encoded data removed]",
      "text/plain": [
       "<matplotlib.figure.Figure at 0x7f06bfdd0668>"
      ]
     },
     "metadata": {},
     "output_type": "display_data"
    }
   ],
   "source": [
    "data.agency.value_counts().sort_values(ascending=True).plot(kind='barh', figsize=(10,8))"
   ]
  },
  {
   "cell_type": "code",
   "execution_count": 133,
   "metadata": {
    "scrolled": false
   },
   "outputs": [
    {
     "data": {
      "text/plain": [
       "<matplotlib.axes._subplots.AxesSubplot at 0x7f06b732f518>"
      ]
     },
     "execution_count": 133,
     "metadata": {},
     "output_type": "execute_result"
    },
    {
     "data": {
      "image/png": "[encoded data removed]",
      "text/plain": [
       "<matplotlib.figure.Figure at 0x7f06b73be8d0>"
      ]
     },
     "metadata": {},
     "output_type": "display_data"
    }
   ],
   "source": [
    "data.agency_name.value_counts().head(15).sort_values(ascending=True).plot(kind='barh', figsize=(10,10))"
   ]
  },
  {
   "cell_type": "code",
   "execution_count": null,
   "metadata": {
    "collapsed": true
   },
   "outputs": [],
   "source": []
  },
  {
   "cell_type": "code",
   "execution_count": null,
   "metadata": {
    "collapsed": true
   },
   "outputs": [],
   "source": []
  },
  {
   "cell_type": "code",
   "execution_count": 86,
   "metadata": {},
   "outputs": [
    {
     "data": {
      "text/plain": [
       "Index(['address_type', 'agency', 'agency_name', 'bbl', 'borough',\n",
       "       'bridge_highway_direction', 'bridge_highway_name',\n",
       "       'bridge_highway_segment', 'city', 'closed_date', 'community_board',\n",
       "       'complaint_type', 'created_date', 'cross_street_1', 'cross_street_2',\n",
       "       'descriptor', 'due_date', 'facility_type', 'incident_address',\n",
       "       'incident_zip', 'intersection_street_1', 'intersection_street_2',\n",
       "       'landmark', 'latitude', 'location', 'location_type', 'longitude',\n",
       "       'open_data_channel_type', 'park_borough', 'park_facility_name',\n",
       "       'resolution_action_updated_date', 'resolution_description', 'road_ramp',\n",
       "       'status', 'street_name', 'taxi_company_borough',\n",
       "       'taxi_pick_up_location', 'unique_key', 'vehicle_type',\n",
       "       'x_coordinate_state_plane', 'y_coordinate_state_plane', 'response_time',\n",
       "       'remaining_time'],\n",
       "      dtype='object')"
      ]
     },
     "execution_count": 86,
     "metadata": {},
     "output_type": "execute_result"
    }
   ],
   "source": [
    "data.columns"
   ]
  },
  {
   "cell_type": "markdown",
   "metadata": {},
   "source": [
    "#### Complaint Types"
   ]
  },
  {
   "cell_type": "code",
   "execution_count": 5,
   "metadata": {
    "collapsed": true
   },
   "outputs": [],
   "source": [
    "top_complaints = data.complaint_type.value_counts()[\n",
    "    data.complaint_type.value_counts()>data.complaint_type.value_counts().mean()]"
   ]
  },
  {
   "cell_type": "code",
   "execution_count": 117,
   "metadata": {},
   "outputs": [
    {
     "data": {
      "text/plain": [
       "Text(0.5,1,'Top Complaints')"
      ]
     },
     "execution_count": 117,
     "metadata": {},
     "output_type": "execute_result"
    },
    {
     "data": {
      "image/png": "[encoded data removed]",
      "text/plain": [
       "<matplotlib.figure.Figure at 0x7f06bfaae208>"
      ]
     },
     "metadata": {},
     "output_type": "display_data"
    }
   ],
   "source": [
    "top_complaints.head(10).sort_values(ascending=True).plot(kind='barh', figsize=(10,7))\n",
    "plt.title(\"Top Complaints\")"
   ]
  },
  {
   "cell_type": "code",
   "execution_count": 125,
   "metadata": {
    "scrolled": false
   },
   "outputs": [
    {
     "data": {
      "text/html": [
       "<div>\n",
       "<style>\n",
       "    .dataframe thead tr:only-child th {\n",
       "        text-align: right;\n",
       "    }\n",
       "\n",
       "    .dataframe thead th {\n",
       "        text-align: left;\n",
       "    }\n",
       "\n",
       "    .dataframe tbody tr th {\n",
       "        vertical-align: top;\n",
       "    }\n",
       "</style>\n",
       "<table border=\"1\" class=\"dataframe\">\n",
       "  <thead>\n",
       "    <tr style=\"text-align: right;\">\n",
       "      <th></th>\n",
       "      <th>agency_name</th>\n",
       "      <th>agency</th>\n",
       "    </tr>\n",
       "  </thead>\n",
       "  <tbody>\n",
       "    <tr>\n",
       "      <th>0</th>\n",
       "      <td>New York City Police Department</td>\n",
       "      <td>NYPD</td>\n",
       "    </tr>\n",
       "    <tr>\n",
       "      <th>11</th>\n",
       "      <td>BCC - Brooklyn North</td>\n",
       "      <td>DSNY</td>\n",
       "    </tr>\n",
       "    <tr>\n",
       "      <th>12</th>\n",
       "      <td>Department of Environmental Protection</td>\n",
       "      <td>DEP</td>\n",
       "    </tr>\n",
       "    <tr>\n",
       "      <th>18</th>\n",
       "      <td>BCC - Brooklyn South</td>\n",
       "      <td>DSNY</td>\n",
       "    </tr>\n",
       "    <tr>\n",
       "      <th>34</th>\n",
       "      <td>Department of Health and Mental Hygiene</td>\n",
       "      <td>DOHMH</td>\n",
       "    </tr>\n",
       "    <tr>\n",
       "      <th>48</th>\n",
       "      <td>Department of Parks and Recreation</td>\n",
       "      <td>DPR</td>\n",
       "    </tr>\n",
       "    <tr>\n",
       "      <th>56</th>\n",
       "      <td>BCC - Bronx</td>\n",
       "      <td>DSNY</td>\n",
       "    </tr>\n",
       "    <tr>\n",
       "      <th>65</th>\n",
       "      <td>Department of Transportation</td>\n",
       "      <td>DOT</td>\n",
       "    </tr>\n",
       "    <tr>\n",
       "      <th>71</th>\n",
       "      <td>Department of Housing Preservation and Develop...</td>\n",
       "      <td>HPD</td>\n",
       "    </tr>\n",
       "    <tr>\n",
       "      <th>72</th>\n",
       "      <td>Taxi and Limousine Commission</td>\n",
       "      <td>TLC</td>\n",
       "    </tr>\n",
       "    <tr>\n",
       "      <th>92</th>\n",
       "      <td>Department of Sanitation</td>\n",
       "      <td>DSNY</td>\n",
       "    </tr>\n",
       "    <tr>\n",
       "      <th>101</th>\n",
       "      <td>BCC - Staten Island</td>\n",
       "      <td>DSNY</td>\n",
       "    </tr>\n",
       "    <tr>\n",
       "      <th>102</th>\n",
       "      <td>Brooklyn North 03</td>\n",
       "      <td>DSNY</td>\n",
       "    </tr>\n",
       "    <tr>\n",
       "      <th>105</th>\n",
       "      <td>BCC - Queens West</td>\n",
       "      <td>DSNY</td>\n",
       "    </tr>\n",
       "    <tr>\n",
       "      <th>131</th>\n",
       "      <td>Operations Unit - Department of Homeless Services</td>\n",
       "      <td>DHS</td>\n",
       "    </tr>\n",
       "    <tr>\n",
       "      <th>156</th>\n",
       "      <td>Bronx 05</td>\n",
       "      <td>DSNY</td>\n",
       "    </tr>\n",
       "    <tr>\n",
       "      <th>167</th>\n",
       "      <td>BCC - Queens East</td>\n",
       "      <td>DSNY</td>\n",
       "    </tr>\n",
       "    <tr>\n",
       "      <th>172</th>\n",
       "      <td>Manhattan 03</td>\n",
       "      <td>DSNY</td>\n",
       "    </tr>\n",
       "    <tr>\n",
       "      <th>237</th>\n",
       "      <td>Department of Buildings</td>\n",
       "      <td>DOB</td>\n",
       "    </tr>\n",
       "    <tr>\n",
       "      <th>247</th>\n",
       "      <td>Brooklyn South 10</td>\n",
       "      <td>DSNY</td>\n",
       "    </tr>\n",
       "    <tr>\n",
       "      <th>279</th>\n",
       "      <td>Manhattan 02</td>\n",
       "      <td>DSNY</td>\n",
       "    </tr>\n",
       "    <tr>\n",
       "      <th>300</th>\n",
       "      <td>A - Queens</td>\n",
       "      <td>DSNY</td>\n",
       "    </tr>\n",
       "    <tr>\n",
       "      <th>302</th>\n",
       "      <td>A - Illegal Posting Staten Island, Queens and ...</td>\n",
       "      <td>DSNY</td>\n",
       "    </tr>\n",
       "    <tr>\n",
       "      <th>313</th>\n",
       "      <td>A - Manhattan</td>\n",
       "      <td>DSNY</td>\n",
       "    </tr>\n",
       "    <tr>\n",
       "      <th>339</th>\n",
       "      <td>A - Bronx</td>\n",
       "      <td>DSNY</td>\n",
       "    </tr>\n",
       "    <tr>\n",
       "      <th>345</th>\n",
       "      <td>A - Brooklyn</td>\n",
       "      <td>DSNY</td>\n",
       "    </tr>\n",
       "    <tr>\n",
       "      <th>353</th>\n",
       "      <td>School - PS 161 The Crown</td>\n",
       "      <td>DOE</td>\n",
       "    </tr>\n",
       "    <tr>\n",
       "      <th>364</th>\n",
       "      <td>Queens East 10</td>\n",
       "      <td>DSNY</td>\n",
       "    </tr>\n",
       "    <tr>\n",
       "      <th>368</th>\n",
       "      <td>Manhattan 04</td>\n",
       "      <td>DSNY</td>\n",
       "    </tr>\n",
       "    <tr>\n",
       "      <th>377</th>\n",
       "      <td>Bronx 08</td>\n",
       "      <td>DSNY</td>\n",
       "    </tr>\n",
       "    <tr>\n",
       "      <th>...</th>\n",
       "      <td>...</td>\n",
       "      <td>...</td>\n",
       "    </tr>\n",
       "    <tr>\n",
       "      <th>35987</th>\n",
       "      <td>School - Business of Sports School</td>\n",
       "      <td>DOE</td>\n",
       "    </tr>\n",
       "    <tr>\n",
       "      <th>36816</th>\n",
       "      <td>School - PS 144 Col Jeromus Remsen</td>\n",
       "      <td>DOE</td>\n",
       "    </tr>\n",
       "    <tr>\n",
       "      <th>40650</th>\n",
       "      <td>School - PS 150 Queens</td>\n",
       "      <td>DOE</td>\n",
       "    </tr>\n",
       "    <tr>\n",
       "      <th>56680</th>\n",
       "      <td>School - PS 19 Asher Levy</td>\n",
       "      <td>DOE</td>\n",
       "    </tr>\n",
       "    <tr>\n",
       "      <th>56687</th>\n",
       "      <td>School - IS 117 Joseph H Wade</td>\n",
       "      <td>DOE</td>\n",
       "    </tr>\n",
       "    <tr>\n",
       "      <th>56734</th>\n",
       "      <td>School - PS M811 Mickey Mantle School</td>\n",
       "      <td>DOE</td>\n",
       "    </tr>\n",
       "    <tr>\n",
       "      <th>61997</th>\n",
       "      <td>School - Mathematics, Science Research, and Te...</td>\n",
       "      <td>DOE</td>\n",
       "    </tr>\n",
       "    <tr>\n",
       "      <th>63750</th>\n",
       "      <td>School - Murry Bergtraum High School for Busin...</td>\n",
       "      <td>DOE</td>\n",
       "    </tr>\n",
       "    <tr>\n",
       "      <th>66210</th>\n",
       "      <td>School - The Bronxwood Preparatory Academy</td>\n",
       "      <td>DOE</td>\n",
       "    </tr>\n",
       "    <tr>\n",
       "      <th>66587</th>\n",
       "      <td>School - PS 242 The Young Diplomats Magnet Aca...</td>\n",
       "      <td>DOE</td>\n",
       "    </tr>\n",
       "    <tr>\n",
       "      <th>66588</th>\n",
       "      <td>School - John Dewey High School</td>\n",
       "      <td>DOE</td>\n",
       "    </tr>\n",
       "    <tr>\n",
       "      <th>70184</th>\n",
       "      <td>School - The Windsor Terrace School</td>\n",
       "      <td>DOE</td>\n",
       "    </tr>\n",
       "    <tr>\n",
       "      <th>70615</th>\n",
       "      <td>School - PS 29 Bardwell</td>\n",
       "      <td>DOE</td>\n",
       "    </tr>\n",
       "    <tr>\n",
       "      <th>70616</th>\n",
       "      <td>School - JHS 127 The Castle Hill</td>\n",
       "      <td>DOE</td>\n",
       "    </tr>\n",
       "    <tr>\n",
       "      <th>72317</th>\n",
       "      <td>School - MS X101 Edward R Byrne</td>\n",
       "      <td>DOE</td>\n",
       "    </tr>\n",
       "    <tr>\n",
       "      <th>72575</th>\n",
       "      <td>School - PS 51 Elias Howe</td>\n",
       "      <td>DOE</td>\n",
       "    </tr>\n",
       "    <tr>\n",
       "      <th>72625</th>\n",
       "      <td>School - PS 43 Jonas Bronck</td>\n",
       "      <td>DOE</td>\n",
       "    </tr>\n",
       "    <tr>\n",
       "      <th>74342</th>\n",
       "      <td>DOB Inspections - Bronx</td>\n",
       "      <td>DOB</td>\n",
       "    </tr>\n",
       "    <tr>\n",
       "      <th>78185</th>\n",
       "      <td>School - John F Kennedy Jr School</td>\n",
       "      <td>DOE</td>\n",
       "    </tr>\n",
       "    <tr>\n",
       "      <th>80274</th>\n",
       "      <td>School - PS X188</td>\n",
       "      <td>DOE</td>\n",
       "    </tr>\n",
       "    <tr>\n",
       "      <th>81596</th>\n",
       "      <td>DOT</td>\n",
       "      <td>DOT</td>\n",
       "    </tr>\n",
       "    <tr>\n",
       "      <th>81968</th>\n",
       "      <td>School - Monroe Academy for Visual Arts and De...</td>\n",
       "      <td>DOE</td>\n",
       "    </tr>\n",
       "    <tr>\n",
       "      <th>85834</th>\n",
       "      <td>School - Art and Design High School</td>\n",
       "      <td>DOE</td>\n",
       "    </tr>\n",
       "    <tr>\n",
       "      <th>85850</th>\n",
       "      <td>School - PS 201 The Discovery School for Inqui...</td>\n",
       "      <td>DOE</td>\n",
       "    </tr>\n",
       "    <tr>\n",
       "      <th>89858</th>\n",
       "      <td>School - PS 50 Talfourd Lawn Elementary School</td>\n",
       "      <td>DOE</td>\n",
       "    </tr>\n",
       "    <tr>\n",
       "      <th>90289</th>\n",
       "      <td>School - PS 346 Abe Stark</td>\n",
       "      <td>DOE</td>\n",
       "    </tr>\n",
       "    <tr>\n",
       "      <th>91166</th>\n",
       "      <td>School - PS 197 John B Russwurm</td>\n",
       "      <td>DOE</td>\n",
       "    </tr>\n",
       "    <tr>\n",
       "      <th>91341</th>\n",
       "      <td>School - High School of Sports Management</td>\n",
       "      <td>DOE</td>\n",
       "    </tr>\n",
       "    <tr>\n",
       "      <th>91726</th>\n",
       "      <td>School - Wave Preparatory Elementary School</td>\n",
       "      <td>DOE</td>\n",
       "    </tr>\n",
       "    <tr>\n",
       "      <th>91883</th>\n",
       "      <td>School - High School for Medical Professions</td>\n",
       "      <td>DOE</td>\n",
       "    </tr>\n",
       "  </tbody>\n",
       "</table>\n",
       "<p>107 rows × 2 columns</p>\n",
       "</div>"
      ],
      "text/plain": [
       "                                             agency_name agency\n",
       "0                        New York City Police Department   NYPD\n",
       "11                                  BCC - Brooklyn North   DSNY\n",
       "12                Department of Environmental Protection    DEP\n",
       "18                                  BCC - Brooklyn South   DSNY\n",
       "34               Department of Health and Mental Hygiene  DOHMH\n",
       "48                    Department of Parks and Recreation    DPR\n",
       "56                                           BCC - Bronx   DSNY\n",
       "65                          Department of Transportation    DOT\n",
       "71     Department of Housing Preservation and Develop...    HPD\n",
       "72                         Taxi and Limousine Commission    TLC\n",
       "92                              Department of Sanitation   DSNY\n",
       "101                                  BCC - Staten Island   DSNY\n",
       "102                                    Brooklyn North 03   DSNY\n",
       "105                                    BCC - Queens West   DSNY\n",
       "131    Operations Unit - Department of Homeless Services    DHS\n",
       "156                                             Bronx 05   DSNY\n",
       "167                                    BCC - Queens East   DSNY\n",
       "172                                         Manhattan 03   DSNY\n",
       "237                              Department of Buildings    DOB\n",
       "247                                    Brooklyn South 10   DSNY\n",
       "279                                         Manhattan 02   DSNY\n",
       "300                                           A - Queens   DSNY\n",
       "302    A - Illegal Posting Staten Island, Queens and ...   DSNY\n",
       "313                                        A - Manhattan   DSNY\n",
       "339                                            A - Bronx   DSNY\n",
       "345                                         A - Brooklyn   DSNY\n",
       "353                            School - PS 161 The Crown    DOE\n",
       "364                                       Queens East 10   DSNY\n",
       "368                                         Manhattan 04   DSNY\n",
       "377                                             Bronx 08   DSNY\n",
       "...                                                  ...    ...\n",
       "35987                 School - Business of Sports School    DOE\n",
       "36816                 School - PS 144 Col Jeromus Remsen    DOE\n",
       "40650                             School - PS 150 Queens    DOE\n",
       "56680                          School - PS 19 Asher Levy    DOE\n",
       "56687                      School - IS 117 Joseph H Wade    DOE\n",
       "56734              School - PS M811 Mickey Mantle School    DOE\n",
       "61997  School - Mathematics, Science Research, and Te...    DOE\n",
       "63750  School - Murry Bergtraum High School for Busin...    DOE\n",
       "66210         School - The Bronxwood Preparatory Academy    DOE\n",
       "66587  School - PS 242 The Young Diplomats Magnet Aca...    DOE\n",
       "66588                    School - John Dewey High School    DOE\n",
       "70184                School - The Windsor Terrace School    DOE\n",
       "70615                            School - PS 29 Bardwell    DOE\n",
       "70616                   School - JHS 127 The Castle Hill    DOE\n",
       "72317                    School - MS X101 Edward R Byrne    DOE\n",
       "72575                          School - PS 51 Elias Howe    DOE\n",
       "72625                        School - PS 43 Jonas Bronck    DOE\n",
       "74342                            DOB Inspections - Bronx    DOB\n",
       "78185                  School - John F Kennedy Jr School    DOE\n",
       "80274                                   School - PS X188    DOE\n",
       "81596                                                DOT    DOT\n",
       "81968  School - Monroe Academy for Visual Arts and De...    DOE\n",
       "85834                School - Art and Design High School    DOE\n",
       "85850  School - PS 201 The Discovery School for Inqui...    DOE\n",
       "89858     School - PS 50 Talfourd Lawn Elementary School    DOE\n",
       "90289                          School - PS 346 Abe Stark    DOE\n",
       "91166                    School - PS 197 John B Russwurm    DOE\n",
       "91341          School - High School of Sports Management    DOE\n",
       "91726        School - Wave Preparatory Elementary School    DOE\n",
       "91883       School - High School for Medical Professions    DOE\n",
       "\n",
       "[107 rows x 2 columns]"
      ]
     },
     "execution_count": 125,
     "metadata": {},
     "output_type": "execute_result"
    }
   ],
   "source": [
    "data[['agency_name', 'agency']].drop_duplicates()"
   ]
  },
  {
   "cell_type": "raw",
   "metadata": {},
   "source": [
    "top_complaints.index"
   ]
  },
  {
   "cell_type": "raw",
   "metadata": {},
   "source": [
    "data[['created_date', 'complaint_type']].groupby(['complaint_type']).count()"
   ]
  },
  {
   "cell_type": "markdown",
   "metadata": {},
   "source": [
    "for i, col in enumerate(data.columns):\n",
    "    print(i, col)"
   ]
  },
  {
   "cell_type": "markdown",
   "metadata": {},
   "source": [
    "## ML Prep"
   ]
  },
  {
   "cell_type": "code",
   "execution_count": 1,
   "metadata": {
    "collapsed": true
   },
   "outputs": [],
   "source": [
    "model_feature = ['borough', 'city', 'created_date',\n",
    "       'incident_zip', 'latitude', 'longitude', 'complaint_type']"
   ]
  },
  {
   "cell_type": "code",
   "execution_count": 2,
   "metadata": {},
   "outputs": [
    {
     "ename": "NameError",
     "evalue": "name 'data' is not defined",
     "output_type": "error",
     "traceback": [
      "\u001b[0;31m---------------------------------------------------------------------------\u001b[0m",
      "\u001b[0;31mNameError\u001b[0m                                 Traceback (most recent call last)",
      "\u001b[0;32m<ipython-input-2-f22ac3c3db85>\u001b[0m in \u001b[0;36m<module>\u001b[0;34m()\u001b[0m\n\u001b[0;32m----> 1\u001b[0;31m \u001b[0mmdata\u001b[0m \u001b[0;34m=\u001b[0m \u001b[0mdata\u001b[0m\u001b[0;34m[\u001b[0m\u001b[0mmodel_feature\u001b[0m\u001b[0;34m]\u001b[0m\u001b[0;34m\u001b[0m\u001b[0m\n\u001b[0m\u001b[1;32m      2\u001b[0m \u001b[0mmdata\u001b[0m \u001b[0;34m=\u001b[0m \u001b[0mmdata\u001b[0m\u001b[0;34m.\u001b[0m\u001b[0mdropna\u001b[0m\u001b[0;34m(\u001b[0m\u001b[0;34m)\u001b[0m\u001b[0;34m\u001b[0m\u001b[0m\n\u001b[1;32m      3\u001b[0m \u001b[0mmdata\u001b[0m\u001b[0;34m.\u001b[0m\u001b[0misnull\u001b[0m\u001b[0;34m(\u001b[0m\u001b[0;34m)\u001b[0m\u001b[0;34m.\u001b[0m\u001b[0msum\u001b[0m\u001b[0;34m(\u001b[0m\u001b[0;34m)\u001b[0m\u001b[0;34m\u001b[0m\u001b[0m\n",
      "\u001b[0;31mNameError\u001b[0m: name 'data' is not defined"
     ]
    }
   ],
   "source": [
    "mdata = data[model_feature]\n",
    "mdata = mdata.dropna()\n",
    "mdata.isnull().sum()"
   ]
  },
  {
   "cell_type": "code",
   "execution_count": 5,
   "metadata": {},
   "outputs": [
    {
     "name": "stderr",
     "output_type": "stream",
     "text": [
      "WARNING:root:Requests made without an app_token will be subject to strict throttling limits.\n"
     ]
    }
   ],
   "source": [
    "client = Socrata(\"data.cityofnewyork.us\", None)\n",
    "\n",
    "# link https://dev.socrata.com/foundry/data.cityofnewyork.us/fhrw-4uyv\n",
    "# tatal record = 9362925\n",
    "results = client.get(\"fhrw-4uyv\", limit=93629, select='agency')\n",
    "\n",
    "# Convert to pandas DataFrame\n",
    "d = pd.DataFrame.from_records(results)"
   ]
  },
  {
   "cell_type": "code",
   "execution_count": 6,
   "metadata": {},
   "outputs": [
    {
     "name": "stderr",
     "output_type": "stream",
     "text": [
      "WARNING:root:Requests made without an app_token will be subject to strict throttling limits.\n"
     ]
    }
   ],
   "source": [
    "client = Socrata(\"data.cityofnewyork.us\", None)\n",
    "df = pd.DataFrame()\n",
    "\n",
    "for col in model_feature:\n",
    "    results = client.get(\"fhrw-4uyv\", limit=93629, select=col)\n",
    "    d = pd.DataFrame.from_records(results)\n",
    "    df = pd.concat([df, d], axis=1)"
   ]
  },
  {
   "cell_type": "code",
   "execution_count": 7,
   "metadata": {
    "scrolled": true
   },
   "outputs": [
    {
     "data": {
      "text/html": [
       "<div>\n",
       "<style>\n",
       "    .dataframe thead tr:only-child th {\n",
       "        text-align: right;\n",
       "    }\n",
       "\n",
       "    .dataframe thead th {\n",
       "        text-align: left;\n",
       "    }\n",
       "\n",
       "    .dataframe tbody tr th {\n",
       "        vertical-align: top;\n",
       "    }\n",
       "</style>\n",
       "<table border=\"1\" class=\"dataframe\">\n",
       "  <thead>\n",
       "    <tr style=\"text-align: right;\">\n",
       "      <th></th>\n",
       "      <th>borough</th>\n",
       "      <th>city</th>\n",
       "      <th>created_date</th>\n",
       "      <th>incident_zip</th>\n",
       "      <th>latitude</th>\n",
       "      <th>longitude</th>\n",
       "      <th>complaint_type</th>\n",
       "    </tr>\n",
       "  </thead>\n",
       "  <tbody>\n",
       "    <tr>\n",
       "      <th>0</th>\n",
       "      <td>BRONX</td>\n",
       "      <td>.</td>\n",
       "      <td>2010-01-01T00:24:00.000</td>\n",
       "      <td>--------</td>\n",
       "      <td>39.5525551788817</td>\n",
       "      <td>-78.18450807772693</td>\n",
       "      <td>Adopt-A-Basket</td>\n",
       "    </tr>\n",
       "    <tr>\n",
       "      <th>1</th>\n",
       "      <td>BRONX</td>\n",
       "      <td>.</td>\n",
       "      <td>2010-01-01T00:54:00.000</td>\n",
       "      <td>?</td>\n",
       "      <td>39.5525551788817</td>\n",
       "      <td>-78.18450807772693</td>\n",
       "      <td>Adopt-A-Basket</td>\n",
       "    </tr>\n",
       "    <tr>\n",
       "      <th>2</th>\n",
       "      <td>BRONX</td>\n",
       "      <td>.</td>\n",
       "      <td>2010-01-01T01:00:00.000</td>\n",
       "      <td>?</td>\n",
       "      <td>39.5525551788817</td>\n",
       "      <td>-78.18450807772693</td>\n",
       "      <td>Adopt-A-Basket</td>\n",
       "    </tr>\n",
       "    <tr>\n",
       "      <th>3</th>\n",
       "      <td>BRONX</td>\n",
       "      <td>*</td>\n",
       "      <td>2010-01-01T01:00:00.000</td>\n",
       "      <td>?</td>\n",
       "      <td>40.49804421521046</td>\n",
       "      <td>-74.25521082506387</td>\n",
       "      <td>Adopt-A-Basket</td>\n",
       "    </tr>\n",
       "    <tr>\n",
       "      <th>4</th>\n",
       "      <td>BRONX</td>\n",
       "      <td>*</td>\n",
       "      <td>2010-01-01T01:07:00.000</td>\n",
       "      <td>.</td>\n",
       "      <td>40.49862773316935</td>\n",
       "      <td>-74.25521082506387</td>\n",
       "      <td>Adopt-A-Basket</td>\n",
       "    </tr>\n",
       "  </tbody>\n",
       "</table>\n",
       "</div>"
      ],
      "text/plain": [
       "  borough city             created_date incident_zip           latitude  \\\n",
       "0   BRONX    .  2010-01-01T00:24:00.000     --------   39.5525551788817   \n",
       "1   BRONX    .  2010-01-01T00:54:00.000            ?   39.5525551788817   \n",
       "2   BRONX    .  2010-01-01T01:00:00.000            ?   39.5525551788817   \n",
       "3   BRONX    *  2010-01-01T01:00:00.000            ?  40.49804421521046   \n",
       "4   BRONX    *  2010-01-01T01:07:00.000            .  40.49862773316935   \n",
       "\n",
       "            longitude  complaint_type  \n",
       "0  -78.18450807772693  Adopt-A-Basket  \n",
       "1  -78.18450807772693  Adopt-A-Basket  \n",
       "2  -78.18450807772693  Adopt-A-Basket  \n",
       "3  -74.25521082506387  Adopt-A-Basket  \n",
       "4  -74.25521082506387  Adopt-A-Basket  "
      ]
     },
     "execution_count": 7,
     "metadata": {},
     "output_type": "execute_result"
    }
   ],
   "source": [
    "df.head()"
   ]
  },
  {
   "cell_type": "code",
   "execution_count": 8,
   "metadata": {
    "collapsed": true,
    "scrolled": false
   },
   "outputs": [],
   "source": [
    "zipcodes = []\n",
    "with open('Data/NYCzipcodes_raw.txt') as file:\n",
    "    zipcodes_raw = file.read()\n",
    "for i, z in enumerate(zipcodes_raw.split()):\n",
    "    if i%2==0:\n",
    "        zipcodes.append(z)"
   ]
  },
  {
   "cell_type": "code",
   "execution_count": 193,
   "metadata": {},
   "outputs": [
    {
     "data": {
      "text/plain": [
       "0            0\n",
       "1            0\n",
       "2            0\n",
       "3            0\n",
       "4            0\n",
       "5            0\n",
       "6            0\n",
       "7            0\n",
       "8            0\n",
       "9            0\n",
       "10           0\n",
       "11           0\n",
       "12           0\n",
       "13           0\n",
       "14           0\n",
       "15           0\n",
       "16           0\n",
       "17           0\n",
       "18           0\n",
       "19           0\n",
       "20           0\n",
       "21           0\n",
       "22           0\n",
       "23           0\n",
       "24           0\n",
       "25           0\n",
       "26           0\n",
       "27           0\n",
       "28           0\n",
       "29           0\n",
       "         ...  \n",
       "93599    10002\n",
       "93600    10002\n",
       "93601    10002\n",
       "93602    10002\n",
       "93603    10002\n",
       "93604    10002\n",
       "93605    10002\n",
       "93606    10002\n",
       "93607    10002\n",
       "93608    10002\n",
       "93609    10002\n",
       "93610    10002\n",
       "93611    10002\n",
       "93612    10002\n",
       "93613    10002\n",
       "93614    10002\n",
       "93615    10002\n",
       "93616    10002\n",
       "93617    10002\n",
       "93618    10002\n",
       "93619    10002\n",
       "93620    10002\n",
       "93621    10002\n",
       "93622    10002\n",
       "93623    10002\n",
       "93624    10002\n",
       "93625    10002\n",
       "93626    10002\n",
       "93627    10002\n",
       "93628    10002\n",
       "Name: incident_zip, Length: 93629, dtype: object"
      ]
     },
     "execution_count": 193,
     "metadata": {},
     "output_type": "execute_result"
    }
   ],
   "source": [
    "# data['match'] = data['match'].apply(lambda x:1 if x==True else 0)\n",
    "df['incident_zip'].apply(lambda x: x[:6] if x[:6] in zipcodes else 0)\n",
    "\n",
    "#re.search('([0-9]+)-[0-9]', movie).group(1)"
   ]
  },
  {
   "cell_type": "code",
   "execution_count": 183,
   "metadata": {},
   "outputs": [
    {
     "data": {
      "text/plain": [
       "10001    48615\n",
       "10002    42097\n",
       "0         2917\n",
       "Name: incident_zip, dtype: int64"
      ]
     },
     "execution_count": 183,
     "metadata": {},
     "output_type": "execute_result"
    }
   ],
   "source": [
    "df.incident_zip.value_counts()"
   ]
  },
  {
   "cell_type": "code",
   "execution_count": 198,
   "metadata": {},
   "outputs": [
    {
     "data": {
      "text/plain": [
       "10001         51.923015\n",
       "10002         44.961497\n",
       "10000          0.666460\n",
       "07114          0.660052\n",
       "00083          0.387700\n",
       "00000          0.140982\n",
       "0              0.124961\n",
       "07030          0.072627\n",
       "07302          0.061947\n",
       "07310          0.051266\n",
       "07047          0.034177\n",
       "07086          0.033109\n",
       "07306          0.033109\n",
       "07094          0.032041\n",
       "07024          0.025633\n",
       "07087          0.021361\n",
       "07020          0.020293\n",
       "000000         0.019225\n",
       "07093          0.019225\n",
       "07304          0.018157\n",
       "07073          0.017089\n",
       "07054          0.017089\n",
       "07102          0.016021\n",
       "07305          0.012817\n",
       "07666          0.012817\n",
       "06901          0.011748\n",
       "07601          0.009612\n",
       "07307          0.009612\n",
       "08003          0.008544\n",
       "07410          0.008544\n",
       "                ...    \n",
       "06810          0.001068\n",
       "00116          0.001068\n",
       "02250-5126     0.001068\n",
       "02907          0.001068\n",
       "08820          0.001068\n",
       "07624          0.001068\n",
       "07458          0.001068\n",
       "07011          0.001068\n",
       "07032          0.001068\n",
       "07123          0.001068\n",
       "0714           0.001068\n",
       "01234          0.001068\n",
       "01583          0.001068\n",
       "06757          0.001068\n",
       "06489          0.001068\n",
       "06877          0.001068\n",
       "08401          0.001068\n",
       "08840          0.001068\n",
       "1000000        0.001068\n",
       "00             0.001068\n",
       "07807          0.001068\n",
       "07078          0.001068\n",
       "01701-0166     0.001068\n",
       "--------       0.001068\n",
       "07202          0.001068\n",
       "07512          0.001068\n",
       "08550          0.001068\n",
       "08086          0.001068\n",
       "07030-5773     0.001068\n",
       "07649          0.001068\n",
       "Name: incident_zip, Length: 303, dtype: float64"
      ]
     },
     "execution_count": 198,
     "metadata": {},
     "output_type": "execute_result"
    }
   ],
   "source": [
    "df.incident_zip.value_counts()/len(df)*100"
   ]
  },
  {
   "cell_type": "raw",
   "metadata": {
    "scrolled": false
   },
   "source": [
    "zipcodes"
   ]
  },
  {
   "cell_type": "code",
   "execution_count": 9,
   "metadata": {},
   "outputs": [
    {
     "data": {
      "text/plain": [
       "array(['.', '*', '0', '00', '000', '0000', '1', '#200 BREA', 'A', '/A',\n",
       "       'ABERDEEN', 'ADDISON', 'AGUSTA', 'AL', 'ALANTA', 'ALBANY',\n",
       "       'ALBERTSON', 'ALLENTOWN', 'ALPHARATTA', 'ALPHARETTA', 'ALPINE',\n",
       "       'ALTON', 'AMHERST', 'AMITYVILLE', 'AMNETYVILLE', 'AMYTVILLE',\n",
       "       'ANDREWS', 'ANON', 'ANONYMOUS', 'ANTIONO', 'ARCADE', 'ARDSLEY',\n",
       "       'ARMANK', 'ARMONK', 'Arverne', 'ARVERNE', 'ASBURY PARK', 'Astoria',\n",
       "       'ASTORIA'], dtype=object)"
      ]
     },
     "execution_count": 9,
     "metadata": {},
     "output_type": "execute_result"
    }
   ],
   "source": [
    "df.city.unique()"
   ]
  },
  {
   "cell_type": "raw",
   "metadata": {},
   "source": [
    "sns.jointplot(df.longitude, df.latitude, alpha=.15)"
   ]
  },
  {
   "cell_type": "code",
   "execution_count": null,
   "metadata": {
    "collapsed": true
   },
   "outputs": [],
   "source": [
    "df.longitude"
   ]
  },
  {
   "cell_type": "code",
   "execution_count": 10,
   "metadata": {},
   "outputs": [
    {
     "data": {
      "text/plain": [
       "borough           object\n",
       "city              object\n",
       "created_date      object\n",
       "incident_zip      object\n",
       "latitude          object\n",
       "longitude         object\n",
       "complaint_type    object\n",
       "dtype: object"
      ]
     },
     "execution_count": 10,
     "metadata": {},
     "output_type": "execute_result"
    }
   ],
   "source": [
    "df.dtypes"
   ]
  },
  {
   "cell_type": "markdown",
   "metadata": {},
   "source": [
    "Lots of cleaning needed. Decided to use 2015 data for the study due to limited time. requires less cleaning"
   ]
  }
 ],
 "metadata": {
  "kernelspec": {
   "display_name": "Python 3",
   "language": "python",
   "name": "python3"
  },
  "language_info": {
   "codemirror_mode": {
    "name": "ipython",
    "version": 3
   },
   "file_extension": ".py",
   "mimetype": "text/x-python",
   "name": "python",
   "nbconvert_exporter": "python",
   "pygments_lexer": "ipython3",
   "version": "3.6.3"
  }
 },
 "nbformat": 4,
 "nbformat_minor": 2
}
