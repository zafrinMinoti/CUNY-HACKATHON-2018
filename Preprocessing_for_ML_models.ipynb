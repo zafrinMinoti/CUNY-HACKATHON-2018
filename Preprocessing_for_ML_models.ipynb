{
 "cells": [
  {
   "cell_type": "code",
   "execution_count": 1,
   "metadata": {
    "collapsed": true
   },
   "outputs": [],
   "source": [
    "import numpy as np\n",
    "import pandas as pd\n",
    "from sodapy import Socrata\n",
    "\n",
    "import matplotlib.pyplot as plt\n",
    "import seaborn as sns\n",
    "%matplotlib inline\n",
    "\n",
    "import datetime as dt"
   ]
  },
  {
   "cell_type": "raw",
   "metadata": {},
   "source": [
    "model_feature = ['borough', 'city', 'created_date',\n",
    "       'incident_zip', 'latitude', 'longitude', 'complaint_type']\n",
    "\n",
    "client = Socrata(\"data.cityofnewyork.us\", None)\n",
    "df = pd.DataFrame()\n",
    "\n",
    "for col in model_feature:\n",
    "    results = client.get(\"fhrw-4uyv\", limit=936292, select=col)\n",
    "    d = pd.DataFrame.from_records(results)\n",
    "    df = pd.concat([df, d], axis=1)\n",
    "    \n",
    "df.size"
   ]
  },
  {
   "cell_type": "markdown",
   "metadata": {},
   "source": [
    "total_record = 9362925\n",
    "selected_record = 936292\n",
    "selected_record/total_record*100"
   ]
  },
  {
   "cell_type": "code",
   "execution_count": 43,
   "metadata": {
    "collapsed": true,
    "scrolled": true
   },
   "outputs": [],
   "source": [
    "model_feature_raw = ['Borough', 'City', 'Created Date',\n",
    "       'Incident Zip', 'Latitude', 'Longitude', 'Complaint Type']"
   ]
  },
  {
   "cell_type": "code",
   "execution_count": 20,
   "metadata": {},
   "outputs": [
    {
     "data": {
      "text/plain": [
       "(2282093, 53)"
      ]
     },
     "execution_count": 20,
     "metadata": {},
     "output_type": "execute_result"
    }
   ],
   "source": [
    "df = pd.read_csv('Data/311_Service_Requests_from_2015.csv')\n",
    "df.shape"
   ]
  },
  {
   "cell_type": "code",
   "execution_count": 19,
   "metadata": {},
   "outputs": [
    {
     "data": {
      "text/plain": [
       "24.373718682997033"
      ]
     },
     "execution_count": 19,
     "metadata": {},
     "output_type": "execute_result"
    }
   ],
   "source": [
    "total_record = 9362925\n",
    "selected_record = len(df)\n",
    "selected_record/total_record*100"
   ]
  },
  {
   "cell_type": "code",
   "execution_count": 30,
   "metadata": {},
   "outputs": [
    {
     "data": {
      "text/plain": [
       "(2282093, 7)"
      ]
     },
     "execution_count": 30,
     "metadata": {},
     "output_type": "execute_result"
    }
   ],
   "source": [
    "df = df[model_feature]\n",
    "df.shape"
   ]
  },
  {
   "cell_type": "code",
   "execution_count": 37,
   "metadata": {
    "collapsed": true
   },
   "outputs": [],
   "source": [
    "model_feature = ['borough', 'city', 'created_date',\n",
    "       'incident_zip', 'latitude', 'longitude', 'complaint_type']"
   ]
  },
  {
   "cell_type": "code",
   "execution_count": 41,
   "metadata": {},
   "outputs": [
    {
     "name": "stdout",
     "output_type": "stream",
     "text": [
      "'Borough': 'borough', 'City': 'city', 'Created Date': 'created_date', 'Incident Zip': 'incident_zip', 'Latitude': 'latitude', 'Longitude': 'longitude', 'Complaint Type': 'complaint_type', "
     ]
    }
   ],
   "source": [
    "i = 0\n",
    "for n in df.columns:\n",
    "    print('\\'{}\\''.format(n), end=': \\'{}\\', '.format(model_feature[i]))\n",
    "    i+=1"
   ]
  },
  {
   "cell_type": "code",
   "execution_count": 42,
   "metadata": {
    "collapsed": true
   },
   "outputs": [],
   "source": [
    "df = df.rename(columns={'Borough': 'borough', 'City': 'city', \n",
    "                        'Created Date': 'created_date', \n",
    "                        'Incident Zip': 'incident_zip', 'Latitude': 'latitude', \n",
    "                        'Longitude': 'longitude', \n",
    "                        'Complaint Type': 'complaint_type'})"
   ]
  },
  {
   "cell_type": "markdown",
   "metadata": {},
   "source": [
    "## Missing Values"
   ]
  },
  {
   "cell_type": "code",
   "execution_count": 45,
   "metadata": {},
   "outputs": [
    {
     "data": {
      "text/plain": [
       "borough            0.000000\n",
       "city               7.318326\n",
       "created_date       0.000000\n",
       "incident_zip       7.337650\n",
       "latitude          10.280738\n",
       "longitude         10.280738\n",
       "complaint_type     0.000000\n",
       "dtype: float64"
      ]
     },
     "execution_count": 45,
     "metadata": {},
     "output_type": "execute_result"
    }
   ],
   "source": [
    "df.isnull().sum()/len(df)*100"
   ]
  },
  {
   "cell_type": "code",
   "execution_count": 46,
   "metadata": {
    "collapsed": true
   },
   "outputs": [],
   "source": [
    "df = df.dropna()"
   ]
  },
  {
   "cell_type": "markdown",
   "metadata": {},
   "source": [
    "## Datatypes"
   ]
  },
  {
   "cell_type": "code",
   "execution_count": 48,
   "metadata": {},
   "outputs": [
    {
     "data": {
      "text/plain": [
       "borough            object\n",
       "city               object\n",
       "created_date       object\n",
       "incident_zip       object\n",
       "latitude          float64\n",
       "longitude         float64\n",
       "complaint_type     object\n",
       "dtype: object"
      ]
     },
     "execution_count": 48,
     "metadata": {},
     "output_type": "execute_result"
    }
   ],
   "source": [
    "df.dtypes"
   ]
  },
  {
   "cell_type": "code",
   "execution_count": 49,
   "metadata": {
    "collapsed": true
   },
   "outputs": [],
   "source": [
    "df['created_date'] = pd.to_datetime(df['created_date'])\n",
    "#df['latitude'] = df['latitude'].astype(float)\n",
    "#df['longitude'] = df['longitude'].astype(float)\n",
    "df['city'] = df['city'].apply(lambda x:x.upper())\n"
   ]
  },
  {
   "cell_type": "code",
   "execution_count": 63,
   "metadata": {
    "collapsed": true
   },
   "outputs": [],
   "source": [
    "df.incident_zip = df.incident_zip.astype(int)"
   ]
  },
  {
   "cell_type": "markdown",
   "metadata": {},
   "source": [
    "#### Zipcodes"
   ]
  },
  {
   "cell_type": "code",
   "execution_count": 6,
   "metadata": {
    "collapsed": true
   },
   "outputs": [],
   "source": [
    "zipcodes = []\n",
    "with open('Data/NYCzipcodes_raw.txt') as file:\n",
    "    zipcodes_raw = file.read()\n",
    "for i, z in enumerate(zipcodes_raw.split()):\n",
    "    if i%2==0:\n",
    "        zipcodes.append(z)"
   ]
  },
  {
   "cell_type": "code",
   "execution_count": 50,
   "metadata": {},
   "outputs": [
    {
     "name": "stdout",
     "output_type": "stream",
     "text": [
      "418 unique zipcodes in database\n"
     ]
    }
   ],
   "source": [
    "_ = len(df.incident_zip.unique())\n",
    "print(_, 'unique zipcodes in database')"
   ]
  },
  {
   "cell_type": "code",
   "execution_count": 52,
   "metadata": {},
   "outputs": [
    {
     "name": "stdout",
     "output_type": "stream",
     "text": [
      "195 valid zipcodes\n"
     ]
    }
   ],
   "source": [
    "count = 0\n",
    "for z in df.incident_zip.unique():\n",
    "    if z in zipcodes:\n",
    "        count+=1\n",
    "print(count, 'valid zipcodes')"
   ]
  },
  {
   "cell_type": "code",
   "execution_count": 53,
   "metadata": {
    "scrolled": false
   },
   "outputs": [
    {
     "data": {
      "text/plain": [
       "<seaborn.axisgrid.JointGrid at 0x7f1c446ce0b8>"
      ]
     },
     "execution_count": 53,
     "metadata": {},
     "output_type": "execute_result"
    },
    {
     "data": {
      "image/png": "[encoded data removed]",
      "text/plain": [
       "<matplotlib.figure.Figure at 0x7f1c446ce080>"
      ]
     },
     "metadata": {},
     "output_type": "display_data"
    }
   ],
   "source": [
    "sns.jointplot(df.longitude, df.latitude, alpha=.15)"
   ]
  },
  {
   "cell_type": "code",
   "execution_count": 55,
   "metadata": {},
   "outputs": [
    {
     "data": {
      "text/html": [
       "<div>\n",
       "<style>\n",
       "    .dataframe thead tr:only-child th {\n",
       "        text-align: right;\n",
       "    }\n",
       "\n",
       "    .dataframe thead th {\n",
       "        text-align: left;\n",
       "    }\n",
       "\n",
       "    .dataframe tbody tr th {\n",
       "        vertical-align: top;\n",
       "    }\n",
       "</style>\n",
       "<table border=\"1\" class=\"dataframe\">\n",
       "  <thead>\n",
       "    <tr style=\"text-align: right;\">\n",
       "      <th></th>\n",
       "      <th>latitude</th>\n",
       "      <th>longitude</th>\n",
       "    </tr>\n",
       "  </thead>\n",
       "  <tbody>\n",
       "    <tr>\n",
       "      <th>count</th>\n",
       "      <td>2.047062e+06</td>\n",
       "      <td>2.047062e+06</td>\n",
       "    </tr>\n",
       "    <tr>\n",
       "      <th>mean</th>\n",
       "      <td>4.073159e+01</td>\n",
       "      <td>-7.392431e+01</td>\n",
       "    </tr>\n",
       "    <tr>\n",
       "      <th>std</th>\n",
       "      <td>8.645123e-02</td>\n",
       "      <td>8.023125e-02</td>\n",
       "    </tr>\n",
       "    <tr>\n",
       "      <th>min</th>\n",
       "      <td>3.955256e+01</td>\n",
       "      <td>-7.818451e+01</td>\n",
       "    </tr>\n",
       "    <tr>\n",
       "      <th>25%</th>\n",
       "      <td>4.066794e+01</td>\n",
       "      <td>-7.396659e+01</td>\n",
       "    </tr>\n",
       "    <tr>\n",
       "      <th>50%</th>\n",
       "      <td>4.072394e+01</td>\n",
       "      <td>-7.392792e+01</td>\n",
       "    </tr>\n",
       "    <tr>\n",
       "      <th>75%</th>\n",
       "      <td>4.081081e+01</td>\n",
       "      <td>-7.387896e+01</td>\n",
       "    </tr>\n",
       "    <tr>\n",
       "      <th>max</th>\n",
       "      <td>4.091287e+01</td>\n",
       "      <td>-7.370029e+01</td>\n",
       "    </tr>\n",
       "  </tbody>\n",
       "</table>\n",
       "</div>"
      ],
      "text/plain": [
       "           latitude     longitude\n",
       "count  2.047062e+06  2.047062e+06\n",
       "mean   4.073159e+01 -7.392431e+01\n",
       "std    8.645123e-02  8.023125e-02\n",
       "min    3.955256e+01 -7.818451e+01\n",
       "25%    4.066794e+01 -7.396659e+01\n",
       "50%    4.072394e+01 -7.392792e+01\n",
       "75%    4.081081e+01 -7.387896e+01\n",
       "max    4.091287e+01 -7.370029e+01"
      ]
     },
     "execution_count": 55,
     "metadata": {},
     "output_type": "execute_result"
    }
   ],
   "source": [
    "df.describe()"
   ]
  },
  {
   "cell_type": "code",
   "execution_count": 58,
   "metadata": {},
   "outputs": [
    {
     "data": {
      "text/plain": [
       "BROOKLYN         645808\n",
       "QUEENS           477782\n",
       "MANHATTAN        437131\n",
       "BRONX            385562\n",
       "STATEN ISLAND    100771\n",
       "Unspecified           8\n",
       "Name: borough, dtype: int64"
      ]
     },
     "execution_count": 58,
     "metadata": {},
     "output_type": "execute_result"
    }
   ],
   "source": [
    "df.borough.value_counts()"
   ]
  },
  {
   "cell_type": "code",
   "execution_count": 67,
   "metadata": {},
   "outputs": [
    {
     "data": {
      "text/plain": [
       "(2046937, 7)"
      ]
     },
     "execution_count": 67,
     "metadata": {},
     "output_type": "execute_result"
    }
   ],
   "source": [
    "df = df.loc[df.incident_zip>=10000]\n",
    "df = df.loc[df.borough!='Unspecified']\n",
    "df.shape"
   ]
  },
  {
   "cell_type": "markdown",
   "metadata": {},
   "source": [
    "### Parsing Dates"
   ]
  },
  {
   "cell_type": "code",
   "execution_count": 7,
   "metadata": {},
   "outputs": [],
   "source": [
    "df['created_date_year'] = df['created_date'].dt.year\n",
    "df['created_date_month'] = df['created_date'].dt.month\n",
    "df['created_date_dayofmonth'] = df['created_date'].dt.day\n",
    "df['created_date_dayofweek'] = df['created_date'].dt.dayofweek\n",
    "df['created_date_hour'] = df['created_date'].dt.hour"
   ]
  },
  {
   "cell_type": "code",
   "execution_count": 9,
   "metadata": {},
   "outputs": [
    {
     "data": {
      "text/plain": [
       "borough                            object\n",
       "city                               object\n",
       "created_date               datetime64[ns]\n",
       "incident_zip                        int64\n",
       "latitude                          float64\n",
       "longitude                         float64\n",
       "complaint_type                     object\n",
       "created_date_year                   int64\n",
       "created_date_month                  int64\n",
       "created_date_dayofmonth             int64\n",
       "created_date_dayofweek              int64\n",
       "created_date_hour                   int64\n",
       "dtype: object"
      ]
     },
     "execution_count": 9,
     "metadata": {},
     "output_type": "execute_result"
    }
   ],
   "source": [
    "df.dtypes"
   ]
  },
  {
   "cell_type": "markdown",
   "metadata": {},
   "source": [
    "### Create Target"
   ]
  },
  {
   "cell_type": "code",
   "execution_count": 11,
   "metadata": {},
   "outputs": [],
   "source": [
    "top_complaints = df.complaint_type.value_counts()[\n",
    "    df.complaint_type.value_counts()>df.complaint_type.value_counts().mean()]"
   ]
  },
  {
   "cell_type": "code",
   "execution_count": 17,
   "metadata": {},
   "outputs": [
    {
     "data": {
      "text/plain": [
       "HEAT/HOT WATER            225042\n",
       "Noise - Residential       205824\n",
       "Street Condition          118439\n",
       "Blocked Driveway          100191\n",
       "Illegal Parking            90853\n",
       "UNSANITARY CONDITION       82718\n",
       "PAINT/PLASTER              69557\n",
       "Water System               69213\n",
       "Street Light Condition     58627\n",
       "Noise                      56308\n",
       "Name: complaint_type, dtype: int64"
      ]
     },
     "execution_count": 17,
     "metadata": {},
     "output_type": "execute_result"
    }
   ],
   "source": [
    "top_complaints.head(10)"
   ]
  },
  {
   "cell_type": "code",
   "execution_count": 18,
   "metadata": {},
   "outputs": [
    {
     "data": {
      "text/plain": [
       "Index(['HEAT/HOT WATER', 'Noise - Residential', 'Street Condition',\n",
       "       'Blocked Driveway', 'Illegal Parking', 'UNSANITARY CONDITION',\n",
       "       'PAINT/PLASTER', 'Water System', 'Street Light Condition', 'Noise'],\n",
       "      dtype='object')"
      ]
     },
     "execution_count": 18,
     "metadata": {},
     "output_type": "execute_result"
    }
   ],
   "source": [
    "top_complaints.head(10).index"
   ]
  },
  {
   "cell_type": "code",
   "execution_count": 20,
   "metadata": {},
   "outputs": [],
   "source": [
    "topics = top_complaints.head(10).index\n",
    "df.complaint_type = df.complaint_type.apply(lambda x: x if x in topics else 'Others')"
   ]
  },
  {
   "cell_type": "code",
   "execution_count": 22,
   "metadata": {},
   "outputs": [
    {
     "data": {
      "text/plain": [
       "Others                    47.395938\n",
       "HEAT/HOT WATER            10.994085\n",
       "Noise - Residential       10.055219\n",
       "Street Condition           5.786158\n",
       "Blocked Driveway           4.894679\n",
       "Illegal Parking            4.438485\n",
       "UNSANITARY CONDITION       4.041062\n",
       "PAINT/PLASTER              3.398102\n",
       "Water System               3.381296\n",
       "Street Light Condition     2.864133\n",
       "Noise                      2.750842\n",
       "Name: complaint_type, dtype: float64"
      ]
     },
     "execution_count": 22,
     "metadata": {},
     "output_type": "execute_result"
    }
   ],
   "source": [
    "df.complaint_type.value_counts()/len(df)*100"
   ]
  },
  {
   "cell_type": "code",
   "execution_count": 23,
   "metadata": {
    "collapsed": true
   },
   "outputs": [],
   "source": [
    "df.to_pickle('Data/ML_2015.pkl')"
   ]
  }
 ],
 "metadata": {
  "kernelspec": {
   "display_name": "Python 3",
   "language": "python",
   "name": "python3"
  },
  "language_info": {
   "codemirror_mode": {
    "name": "ipython",
    "version": 3
   },
   "file_extension": ".py",
   "mimetype": "text/x-python",
   "name": "python",
   "nbconvert_exporter": "python",
   "pygments_lexer": "ipython3",
   "version": "3.6.3"
  }
 },
 "nbformat": 4,
 "nbformat_minor": 2
}
